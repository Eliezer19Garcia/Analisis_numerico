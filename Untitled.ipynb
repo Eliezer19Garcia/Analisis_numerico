{
 "cells": [
  {
   "cell_type": "markdown",
   "id": "65e3b71e",
   "metadata": {},
   "source": [
    "## Método de Newton\n",
    "El siguiente progrmama utiliza los principios del método de Newton Raphson para hallar raices de ecuaciones de la forma:\n",
    "$$a_5x^5+a_4x^4+a_3x^3+a_2x^2+a_1x+a_0+Acos(bx)+Csin(dx)=0$$\n",
    "donde:\n",
    "\n",
    "$a_i$ = Coeficiente del termino elevado a la i-esima potencia.\n",
    "\n",
    "$A$ = Coeficiente del termino coseno\n",
    "\n",
    "$b$= Coeficiente del termino dentro del coseno\n",
    "\n",
    "$C$ = Coeficiente del termino seno\n",
    "\n",
    "$d$= Coeficiente del termino dentro del seno\n"
   ]
  },
  {
   "cell_type": "markdown",
   "id": "dc27aac4",
   "metadata": {},
   "source": [
    "### Instrucciones \n",
    "Rellene los valores de los coeficientes en la función en el coeficiente correspondiente, en caso de no contar con un termino, rellene con 0:  \n",
    "\n",
    "``newton_method(a_5, a_4, a_3, a_2, a_1, a_0, A, b, C, d, x_0, tol)``\n",
    "donde \n",
    "\n",
    "``x_0`` = Punto dentro del dominio de la función del que se desean iniciar las interaciones\n",
    "\n",
    "``tol`` = Tolerancia o aproximación minima que se desea de la raiz buscada\n",
    "\n",
    "El último valor del vector resultante será el valor más próximo a la raiz buscada"
   ]
  },
  {
   "cell_type": "code",
   "execution_count": 5,
   "id": "e2f7534f",
   "metadata": {},
   "outputs": [],
   "source": [
    "newton_method <- function (a_5, a_4, a_3, a_2, a_1, a_0, A, b, C, d, x_0, tol) {\n",
    "  inter <- c(x_0)  \n",
    "    for (i in 2:100){\n",
    "      f <-  a_5*inter[i-1]^5+ \n",
    "        a_4*inter[i-1]^4+\n",
    "        a_3*inter[i-1]^3+\n",
    "        a_2*inter[i-1]^2+\n",
    "        a_1*inter[i-1]+\n",
    "        a_0 + \n",
    "        A*cos(b*inter[i-1])+\n",
    "        C*sin(d*inter[i-1])\n",
    "      f_der <- a_5*5*inter[i-1]^4+ \n",
    "        a_4*4*inter[i-1]^3+\n",
    "        a_3*3*inter[i-1]^2+\n",
    "        a_2*2*inter[i-1]+\n",
    "        a_1-\n",
    "        A*b*sin(b*inter[i-1])+\n",
    "        C*d*cos(d*inter[i-1])\n",
    "      inter[i] <- inter[i-1]- f/f_der\n",
    "      if(abs(inter[i]-inter[i-1])<tol){\n",
    "        break\n",
    "      }\n",
    "      \n",
    "    }\n",
    "  if(abs(inter[length(inter)]-inter[length(inter)-1])>tol){\n",
    "    print(\"La solucion no pertenece a los reales\")\n",
    "  }\n",
    "  else {return(inter)}\n",
    "}\n"
   ]
  },
  {
   "cell_type": "code",
   "execution_count": 6,
   "id": "6830aa7b",
   "metadata": {},
   "outputs": [
    {
     "data": {
      "text/html": [
       "<ol class=list-inline>\n",
       "\t<li>0.5</li>\n",
       "\t<li>0.605769230769231</li>\n",
       "\t<li>0.590582970126904</li>\n",
       "\t<li>0.590196379286789</li>\n",
       "\t<li>0.59019613464924</li>\n",
       "</ol>\n"
      ],
      "text/latex": [
       "\\begin{enumerate*}\n",
       "\\item 0.5\n",
       "\\item 0.605769230769231\n",
       "\\item 0.590582970126904\n",
       "\\item 0.590196379286789\n",
       "\\item 0.59019613464924\n",
       "\\end{enumerate*}\n"
      ],
      "text/markdown": [
       "1. 0.5\n",
       "2. 0.605769230769231\n",
       "3. 0.590582970126904\n",
       "4. 0.590196379286789\n",
       "5. 0.59019613464924\n",
       "\n",
       "\n"
      ],
      "text/plain": [
       "[1] 0.5000000 0.6057692 0.5905830 0.5901964 0.5901961"
      ]
     },
     "metadata": {},
     "output_type": "display_data"
    }
   ],
   "source": [
    "newton_method(a_5 = 0, a_4  = 5, a_3 = 0, a_2 = 4, a_1 = 0, a_0 = -2, A =0 ,b = 0,C = 0,d = 0,x_0 = 0.5 ,tol = 0.00004)"
   ]
  },
  {
   "cell_type": "markdown",
   "id": "6b0dedc8",
   "metadata": {},
   "source": [
    "## Método de la Secante\n",
    "El siguiente progrmama utiliza los principios del método de la secante para hallar raices de ecuaciones de la forma:\n",
    "$$a_5x^5+a_4x^4+a_3x^3+a_2x^2+a_1x+a_0+Acos(bx)+Csin(dx)=0$$\n",
    "donde:\n",
    "\n",
    "$a_i$ = Coeficiente del termino elevado a la i-esima potencia.\n",
    "\n",
    "$A$ = Coeficiente del termino coseno\n",
    "\n",
    "$b$= Coeficiente del termino dentro del coseno\n",
    "\n",
    "$C$ = Coeficiente del termino seno\n",
    "\n",
    "$d$= Coeficiente del termino dentro del seno\n"
   ]
  },
  {
   "cell_type": "markdown",
   "id": "df218ae9",
   "metadata": {},
   "source": [
    "### Instrucciones \n",
    "Rellene los valores de los coeficientes en la función en el coeficiente correspondiente, en caso de no contar con un termino, rellene con 0:  \n",
    "\n",
    "``newton_method(a_5, a_4, a_3, a_2, a_1, a_0, A, b, C, d, x_0, x_1, tol)``\n",
    "donde \n",
    "\n",
    "``x_0`` = Punto dentro del dominio de la función del que se desean iniciar las interaciones\n",
    "\n",
    "``x_1`` = Punto dentro del dominio de la función del que se desean seguir con las interaciones\n",
    "\n",
    "``tol`` = Tolerancia o aproximación minima que se desea de la raiz buscada\n",
    "\n",
    "El último valor del vector resultante será el valor más próximo a la raiz buscada"
   ]
  },
  {
   "cell_type": "code",
   "execution_count": 1,
   "id": "512220ef",
   "metadata": {},
   "outputs": [],
   "source": [
    "secant_method <- function (a_5, a_4, a_3, a_2, a_1, a_0, A, b, C, d, x_0, x_1,tol) {\n",
    "  inter <- c(x_0,x_1)\n",
    "  f <- function(x){\n",
    "    f_x <-  a_5*x^5+ \n",
    "      a_4*x^4+\n",
    "      a_3*x^3+\n",
    "      a_2*x^2+\n",
    "      a_1*x+\n",
    "      a_0 + \n",
    "      A*cos(b*x)+\n",
    "      C*sin(d*x)\n",
    "  }\n",
    "  for (i in 3:100){\n",
    "    inter[i] <- inter[i-1]-f(inter[i-1])*(inter[i-1]-inter[i-2])/(f(inter[i-1])-f(inter[i-2])) \n",
    "    if (abs(inter[i]-inter[i-1])<tol){\n",
    "    break\n",
    "    }\n",
    "  }\n",
    "    if(abs(inter[length(inter)]-inter[length(inter)-1])>tol){\n",
    "    print(\"La solucion no pertenece a los reales\")\n",
    "  }\n",
    "  else {return(inter)}\n",
    "}"
   ]
  },
  {
   "cell_type": "code",
   "execution_count": 3,
   "id": "ea5905e1",
   "metadata": {},
   "outputs": [
    {
     "data": {
      "text/html": [
       "<ol class=list-inline>\n",
       "\t<li>0.5</li>\n",
       "\t<li>1</li>\n",
       "\t<li>0.544715447154472</li>\n",
       "\t<li>0.567744865296793</li>\n",
       "\t<li>0.591964039658852</li>\n",
       "\t<li>0.590130097659749</li>\n",
       "\t<li>0.590195943933353</li>\n",
       "\t<li>0.590196134669746</li>\n",
       "</ol>\n"
      ],
      "text/latex": [
       "\\begin{enumerate*}\n",
       "\\item 0.5\n",
       "\\item 1\n",
       "\\item 0.544715447154472\n",
       "\\item 0.567744865296793\n",
       "\\item 0.591964039658852\n",
       "\\item 0.590130097659749\n",
       "\\item 0.590195943933353\n",
       "\\item 0.590196134669746\n",
       "\\end{enumerate*}\n"
      ],
      "text/markdown": [
       "1. 0.5\n",
       "2. 1\n",
       "3. 0.544715447154472\n",
       "4. 0.567744865296793\n",
       "5. 0.591964039658852\n",
       "6. 0.590130097659749\n",
       "7. 0.590195943933353\n",
       "8. 0.590196134669746\n",
       "\n",
       "\n"
      ],
      "text/plain": [
       "[1] 0.5000000 1.0000000 0.5447154 0.5677449 0.5919640 0.5901301 0.5901959\n",
       "[8] 0.5901961"
      ]
     },
     "metadata": {},
     "output_type": "display_data"
    }
   ],
   "source": [
    "secant_method(a_5 = 0, a_4  = 5, a_3 = 0, a_2 = 4, a_1 = 0, a_0 = -2, A =0 ,b = 0,C = 0,d = 0,x_0 = 0.5 , x_1 =1,tol = 0.00004)"
   ]
  }
 ],
 "metadata": {
  "kernelspec": {
   "display_name": "R",
   "language": "R",
   "name": "ir"
  },
  "language_info": {
   "codemirror_mode": "r",
   "file_extension": ".r",
   "mimetype": "text/x-r-source",
   "name": "R",
   "pygments_lexer": "r",
   "version": "3.6.1"
  }
 },
 "nbformat": 4,
 "nbformat_minor": 5
}
