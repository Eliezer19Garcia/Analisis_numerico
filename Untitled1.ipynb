{
 "cells": [
  {
   "cell_type": "markdown",
   "id": "624cee02",
   "metadata": {},
   "source": [
    " ## Método de Simpson para resolver integrales\n",
    " El siguiente código calcula integrale spara puntos equidistantes en \"x\" por el método de Simpson.\n",
    " Lo primero que tiene que hacer es entrar al siguiente link y llena las dos primeras columnas, es importante que pongas \"x\" y \"y\" en las dos primeras filas como encabezados, en la columna \"x\" anota los valores correspondientes a la \"x\" y en la columna \"y\" anota los valores correspondientes a cada imagen de \"x\""
   ]
  },
  {
   "cell_type": "markdown",
   "id": "54de82aa",
   "metadata": {},
   "source": [
    "https://tableconvert.com/csv-generator"
   ]
  },
  {
   "cell_type": "markdown",
   "id": "ab5884dc",
   "metadata": {},
   "source": [
    "<img src=\"csv.png\">"
   ]
  },
  {
   "cell_type": "markdown",
   "id": "468b047e",
   "metadata": {},
   "source": [
    "Asegurece de que los valores en la columna \"x\" sean equidistantes, una vez corroborado esto, seleccione el icono de 'Download' que está en la parte inferior derecha, esto para descargar su archivo en formato csv."
   ]
  },
  {
   "cell_type": "markdown",
   "id": "165e9472",
   "metadata": {},
   "source": [
    "Ahora corra el código, se desplegará una venta donde tendrá que ubicar su archivo en su equipo, asegurece de seleccionar el correcto."
   ]
  },
  {
   "cell_type": "code",
   "execution_count": null,
   "id": "0730363b",
   "metadata": {},
   "outputs": [],
   "source": [
    "library(dplyr)\n",
    "dta1<-read.csv(choose.files())\n",
    "dtat<-as_tibble(dta1)\n",
    "dta <- dtat %>% filter(x!=NA | x!=\"NA\") %>% select(x,y)\n",
    "dta <- (as.data.frame(dta))"
   ]
  },
  {
   "cell_type": "markdown",
   "id": "38e26d71",
   "metadata": {},
   "source": [
    "Una vez seleccionado el archivo siga corriendo la siguiente parte del código."
   ]
  },
  {
   "cell_type": "code",
   "execution_count": null,
   "id": "b3bf89e2",
   "metadata": {},
   "outputs": [],
   "source": [
    "n<-dim(dta)[1]\n",
    "vector<-rep(0,n)\n",
    "vector_par <- rep(0,n)\n",
    "vector_impar <- rep(0,n)\n",
    "if (n%%2==0){\n",
    "  for(i in 1:ceiling(n/2)){\n",
    "    vector_par[2*i-1] <- dta[2*i-1,2]\n",
    "    vector_impar[2*i] <- dta[2*i,2]\n",
    "  }\n",
    "  vector_par <- vector_par[vector_par!=0]\n",
    "  vector_impar <- vector_impar[vector_impar!=0] \n",
    "  ((dta[n,1]-dta[1,1])/(3*(n-1)))*(4*sum(vector_par)+ 2*sum(vector_impar)-vector_impar[1]-3*vector_par[n/2])\n",
    "  \n",
    "}else{\n",
    "  for(i in 0:floor(n/2)){\n",
    "    if(i==0){\n",
    "      vector_impar[2*i+1]<-dta[2*i+1,2]\n",
    "    }else{\n",
    "      vector_impar[2*i+1] <- dta[2*i+1,2]\n",
    "      vector_par[2*i] <- dta[2*i,2]\n",
    "    }\n",
    "  }\n",
    "  vector_par <- vector_par[vector_par!=0]\n",
    "  vector_impar <- vector_impar[vector_impar!=0] \n",
    "  ((dta[n,1]-dta[1,1])/(3*(n-1)))*(4*sum(vector_par)+ 2*sum(vector_impar)-vector_impar[1]-vector_impar[ceiling(n/2)])\n",
    "}"
   ]
  }
 ],
 "metadata": {
  "kernelspec": {
   "display_name": "R",
   "language": "R",
   "name": "ir"
  },
  "language_info": {
   "codemirror_mode": "r",
   "file_extension": ".r",
   "mimetype": "text/x-r-source",
   "name": "R",
   "pygments_lexer": "r",
   "version": "3.6.1"
  }
 },
 "nbformat": 4,
 "nbformat_minor": 5
}
