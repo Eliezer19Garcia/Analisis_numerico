{
 "cells": [
  {
   "cell_type": "markdown",
   "id": "51c7dcd8",
   "metadata": {},
   "source": [
    "## Diferenciación numérica para 5 puntos\n",
    "El siguiente código calcula derivadas para puntos equidistantes por el el método de fdiferenciación numérica para 5 puntos. \n",
    "Lo primero que tiene que hacer es entrar al siguiente link y llena las dos primeras columnas, es importante que pongas \"x\" y \"y\" en las dos primeras filas como encabezados, en la columna \"x\" anota los valores correspondientes a la \"x\" y en la columna \"y\" anota los valores correspondientes a cada imagen de \"x\""
   ]
  },
  {
   "cell_type": "markdown",
   "id": "f6975366",
   "metadata": {},
   "source": [
    "https://tableconvert.com/csv-generator"
   ]
  },
  {
   "cell_type": "markdown",
   "id": "f64d28eb",
   "metadata": {},
   "source": [
    "<img src=\"csv_5.png\">"
   ]
  },
  {
   "cell_type": "markdown",
   "id": "0a55cfe3",
   "metadata": {},
   "source": [
    "Asegurece de que los valores en la columna \"x\" sean equidistantes, una vez corroborado esto, seleccione el icono de 'Download' que está en la parte inferior derecha, esto para descargar su archivo en formato csv."
   ]
  },
  {
   "cell_type": "markdown",
   "id": "5a43caec",
   "metadata": {},
   "source": [
    "Ahora corra el código, se desplegará una venta donde tendrá que ubicar su archivo en su equipo, asegurece de seleccionar el correcto."
   ]
  },
  {
   "cell_type": "code",
   "execution_count": null,
   "id": "a704b7df",
   "metadata": {},
   "outputs": [],
   "source": [
    "library(dplyr)\n",
    "dta1<-read.csv(choose.files())\n",
    "dtat<-as_tibble(dta1)\n",
    "dta <- dtat %>% filter(x!=NA | x!=\"NA\") %>% select(x,y)\n",
    "dta <- as.data.frame(dta)"
   ]
  },
  {
   "cell_type": "markdown",
   "id": "b7da3bec",
   "metadata": {},
   "source": [
    "Una vez seleccionado el archivo siga corriendo la siguiente parte del código."
   ]
  },
  {
   "cell_type": "code",
   "execution_count": null,
   "id": "c5e6d014",
   "metadata": {},
   "outputs": [],
   "source": [
    "if(dim(dta)[1]==5){\n",
    "  dta$cinco_puntos <- rep(\"--\",5)\n",
    "  dta$cinco_puntos[1] <- (1/(12*(dta[2,1]-dta[1,1])))*(-25*dta[1,2]+48*dta[2,2]-36*dta[3,2]+16*dta[4,2]-3*dta[5,2])\n",
    "  dta$cinco_puntos[3] <- (1/(12*(dta[4,1]-dta[3,1])))*(dta[1,2]-8*dta[2,2]+8*dta[4,2]-dta[5,2])\n",
    "  dta$cinco_puntos[5] <- (1/(12*(dta[4,1]-dta[5,1])))*(-25*dta[5,2]+48*dta[4,2]-36*dta[3,2]+16*dta[2,2]-3*dta[1,2])\n",
    "  dta$tres_puntos_p <- rep(\"--\",5)\n",
    "  dta$tres_puntos_p[1] <- (1/(2*(dta[2,1]-dta[1,1])))*(-3*dta[1,2]+4*dta[2,2]-dta[3,2])\n",
    "  dta$tres_puntos_p[2] <- (1/(2*(dta[3,1]-dta[2,1])))*(-3*dta[2,2]+4*dta[3,2]-dta[4,2])\n",
    "  dta$tres_puntos_p[3] <- (1/(2*(dta[4,1]-dta[3,1])))*(-3*dta[3,2]+4*dta[4,2]-dta[5,2])\n",
    "  dta$tres_puntos_r <- rep(\"--\",5)\n",
    "  dta$tres_puntos_r[5] <- (1/(2*(dta[4,1]-dta[5,1])))*(-3*dta[5,2]+4*dta[4,2]-dta[3,2])\n",
    "  dta$tres_puntos_r[4] <- (1/(2*(dta[3,1]-dta[4,1])))*(-3*dta[4,2]+4*dta[3,2]-dta[2,2])\n",
    "  dta$tres_puntos_r[3] <- (1/(2*(dta[2,1]-dta[3,1])))*(-3*dta[3,2]+4*dta[2,2]-dta[1,2])\n",
    "  dta$tres_puntos_c <- rep(\"--\",5)\n",
    "  dta$tres_puntos_c[2] <- (1/(2*(dta[3,1]-dta[2,1])))*(dta[3,2]-dta[1,2])\n",
    "  dta$tres_puntos_c[3] <- (1/(2*(dta[4,2]-dta[3,2])))*(dta[4,2]-dta[2,2])\n",
    "  dta$tres_puntos_c[4] <- (1/(2*(dta[5,2]-dta[4,2])))*(dta[5,2]-dta[3,2]) \n",
    "  dta\n",
    "}else{\n",
    "  print(\"Revisa que la longitud de tu csv sea de 5x2 sin contemplar los encabezados x , y\")\n",
    "}"
   ]
  },
  {
   "cell_type": "markdown",
   "id": "979c53b9",
   "metadata": {},
   "source": [
    "La tabla mostrada te muestra el resultado de las derivadas aproximadas por el método de 5 puntos (prosprectivo), y por el método de tres puntos (prospectivo(p), retrospectivo(r), central(c))."
   ]
  }
 ],
 "metadata": {
  "kernelspec": {
   "display_name": "R",
   "language": "R",
   "name": "ir"
  },
  "language_info": {
   "codemirror_mode": "r",
   "file_extension": ".r",
   "mimetype": "text/x-r-source",
   "name": "R",
   "pygments_lexer": "r",
   "version": "3.6.1"
  }
 },
 "nbformat": 4,
 "nbformat_minor": 5
}
